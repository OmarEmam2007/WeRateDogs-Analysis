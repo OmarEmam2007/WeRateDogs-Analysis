{
 "cells": [
  {
   "cell_type": "markdown",
   "id": "0ea06e81",
   "metadata": {},
   "source": [
    "# 🐶 Data Wrangling Project: WeRateDogs Analysis  \n",
    "*Prepared by [Your Name]*  \n",
    "*Date: [Submission Date]*  \n",
    "\n",
    "---"
   ]
  },
  {
   "cell_type": "markdown",
   "id": "5afb90d5",
   "metadata": {},
   "source": [
    "## **📥 1. Gathering Data** \n",
    "**Data Sources:**  \n",
    "1. **Twitter Archive (CSV):**  \n",
    "   - Manually downloaded from Udacity.  \n",
    "   - Contains tweet text, timestamps, ratings, and metadata.  "
   ]
  },
  {
   "cell_type": "code",
   "execution_count": 1,
   "id": "5bec5103",
   "metadata": {},
   "outputs": [],
   "source": [
    "import pandas as pd\n",
    "import numpy as np\n",
    "import requests\n",
    "import tweepy\n",
    "import json\n",
    "import os\n",
    "import matplotlib.pyplot as plt\n",
    "from dotenv import load_dotenv"
   ]
  },
  {
   "cell_type": "code",
   "execution_count": 2,
   "id": "51aad58f",
   "metadata": {},
   "outputs": [],
   "source": [
    "twitter_archive = pd.read_csv('twitter-archive-enhanced.csv')"
   ]
  },
  {
   "cell_type": "markdown",
   "id": "28d41742",
   "metadata": {},
   "source": [
    "2. **Image Predictions (TSV):**  \n",
    "   - Programmatically downloaded via `requests`.  \n",
    "   - Includes AI predictions for dog breeds in images.  "
   ]
  },
  {
   "cell_type": "code",
   "execution_count": 3,
   "id": "8b3cd694",
   "metadata": {},
   "outputs": [],
   "source": [
    "url = 'https://d17h27t6h515a5.cloudfront.net/topher/2017/August/599fd2ad_image-predictions/image-predictions.tsv'\n",
    "response = requests.get(url)\n",
    "\n",
    "with open('image-predictions.tsv', 'wb') as file:\n",
    "    file.write(response.content)\n",
    "\n",
    "image_predictions = pd.read_csv('image-predictions.tsv', sep='\\t')"
   ]
  },
  {
   "cell_type": "markdown",
   "id": "4f375e99",
   "metadata": {},
   "source": [
    "3. **Tweet Engagement (JSON):**  \n",
    "   - Extracted using Twitter API and `tweepy`.  \n",
    "   - Provides retweet and favorite counts.  "
   ]
  },
  {
   "cell_type": "code",
   "execution_count": 4,
   "id": "4d89ac3f",
   "metadata": {},
   "outputs": [],
   "source": [
    "tweet_data = []\n",
    "with open('tweet-json', 'r') as f:\n",
    "    for line in f:\n",
    "        try:\n",
    "            data = json.loads(line)\n",
    "            tweet_data.append({\n",
    "                'tweet_id': data['id'],\n",
    "                'retweet_count': data['retweet_count'],\n",
    "                'favorite_count': data['favorite_count']\n",
    "            })\n",
    "        except:\n",
    "            continue\n",
    "\n",
    "tweet_json = pd.DataFrame(tweet_data)"
   ]
  },
  {
   "cell_type": "markdown",
   "id": "8948ad0d",
   "metadata": {},
   "source": [
    "## **🔍 2. Assessing Data**\n",
    "\n",
    "### **🛠️ Quality Issues Identified:**  \n",
    "| #  | Issue Description                  | Example/Details                 |  \n",
    "|----|------------------------------------|---------------------------------|  \n",
    "| 1  | 181 retweets present               | `retweeted_status_id` not null  |  \n",
    "| 2  | 23 invalid rating denominators     | Denominators ≠ 10              |  \n",
    "| 3  | Invalid dog names (e.g., \"a\")      | Found 45 invalid names         |  \n",
    "| 4  | Timestamp stored as string         | Needs datetime conversion       |  \n",
    "| 5  | 59 tweets missing image URLs       | `expanded_urls` is null        |  \n",
    "| 6  |invalid rating numerators Values exceeding 20 |  (e.g., 50/10) due to extraction errors.   | \n",
    "| 7  | 616 missing/invalid dog names Due to extraction errors   |    (e.g., \"a\", \"such\")            |     \n",
    "| 8  | Missing dog names (`name` is NaN) | Over 500 rows missing names     |\n",
    "### **📦 Tidiness Issues Identified:**  \n",
    "- Dog stages split into 4 columns (`doggo`, `pupper`, etc.).  \n",
    "- Data fragmented across 3 datasets.  "
   ]
  },
  {
   "cell_type": "markdown",
   "id": "812a1065",
   "metadata": {},
   "source": [
    "# --------------------------------------\n",
    "# 🧹 Additional Quality Issue Fix\n",
    "# Define: Invalid dog names like 'a', 'an', and 'the' are not actual names"
   ]
  },
  {
   "cell_type": "code",
   "execution_count": 5,
   "id": "f5dcd3f8",
   "metadata": {},
   "outputs": [],
   "source": [
    "# Code:\n",
    "twitter_archive['name'] = twitter_archive['name'].replace(['a', 'an', 'the'], np.nan)"
   ]
  },
  {
   "cell_type": "code",
   "execution_count": 6,
   "id": "449f9048",
   "metadata": {},
   "outputs": [
    {
     "name": "stdout",
     "output_type": "stream",
     "text": [
      "Invalid dog names remaining: 0\n"
     ]
    }
   ],
   "source": [
    "# Test:\n",
    "print(\"Invalid dog names remaining:\", twitter_archive['name'].str.lower().isin(['a', 'an', 'the']).sum())"
   ]
  },
  {
   "cell_type": "code",
   "execution_count": 7,
   "id": "dc38e2a1",
   "metadata": {},
   "outputs": [
    {
     "name": "stdout",
     "output_type": "stream",
     "text": [
      "<class 'pandas.core.frame.DataFrame'>\n",
      "RangeIndex: 2356 entries, 0 to 2355\n",
      "Data columns (total 17 columns):\n",
      " #   Column                      Non-Null Count  Dtype  \n",
      "---  ------                      --------------  -----  \n",
      " 0   tweet_id                    2356 non-null   int64  \n",
      " 1   in_reply_to_status_id       78 non-null     float64\n",
      " 2   in_reply_to_user_id         78 non-null     float64\n",
      " 3   timestamp                   2356 non-null   object \n",
      " 4   source                      2356 non-null   object \n",
      " 5   text                        2356 non-null   object \n",
      " 6   retweeted_status_id         181 non-null    float64\n",
      " 7   retweeted_status_user_id    181 non-null    float64\n",
      " 8   retweeted_status_timestamp  181 non-null    object \n",
      " 9   expanded_urls               2297 non-null   object \n",
      " 10  rating_numerator            2356 non-null   int64  \n",
      " 11  rating_denominator          2356 non-null   int64  \n",
      " 12  name                        1541 non-null   object \n",
      " 13  doggo                       97 non-null     object \n",
      " 14  floofer                     10 non-null     object \n",
      " 15  pupper                      257 non-null    object \n",
      " 16  puppo                       30 non-null     object \n",
      "dtypes: float64(4), int64(3), object(10)\n",
      "memory usage: 313.0+ KB\n"
     ]
    }
   ],
   "source": [
    "twitter_archive.sample(3)\n",
    "twitter_archive.info()"
   ]
  },
  {
   "cell_type": "code",
   "execution_count": 8,
   "id": "ffe065e0",
   "metadata": {},
   "outputs": [
    {
     "name": "stdout",
     "output_type": "stream",
     "text": [
      "<class 'pandas.core.frame.DataFrame'>\n",
      "RangeIndex: 2075 entries, 0 to 2074\n",
      "Data columns (total 12 columns):\n",
      " #   Column    Non-Null Count  Dtype  \n",
      "---  ------    --------------  -----  \n",
      " 0   tweet_id  2075 non-null   int64  \n",
      " 1   jpg_url   2075 non-null   object \n",
      " 2   img_num   2075 non-null   int64  \n",
      " 3   p1        2075 non-null   object \n",
      " 4   p1_conf   2075 non-null   float64\n",
      " 5   p1_dog    2075 non-null   bool   \n",
      " 6   p2        2075 non-null   object \n",
      " 7   p2_conf   2075 non-null   float64\n",
      " 8   p2_dog    2075 non-null   bool   \n",
      " 9   p3        2075 non-null   object \n",
      " 10  p3_conf   2075 non-null   float64\n",
      " 11  p3_dog    2075 non-null   bool   \n",
      "dtypes: bool(3), float64(3), int64(2), object(4)\n",
      "memory usage: 152.1+ KB\n"
     ]
    }
   ],
   "source": [
    "image_predictions.sample(3)\n",
    "image_predictions.info()"
   ]
  },
  {
   "cell_type": "code",
   "execution_count": 9,
   "id": "b9bc6910",
   "metadata": {},
   "outputs": [
    {
     "name": "stdout",
     "output_type": "stream",
     "text": [
      "<class 'pandas.core.frame.DataFrame'>\n",
      "RangeIndex: 2354 entries, 0 to 2353\n",
      "Data columns (total 3 columns):\n",
      " #   Column          Non-Null Count  Dtype\n",
      "---  ------          --------------  -----\n",
      " 0   tweet_id        2354 non-null   int64\n",
      " 1   retweet_count   2354 non-null   int64\n",
      " 2   favorite_count  2354 non-null   int64\n",
      "dtypes: int64(3)\n",
      "memory usage: 55.3 KB\n"
     ]
    }
   ],
   "source": [
    "tweet_json.sample(3)\n",
    "tweet_json.info()"
   ]
  },
  {
   "cell_type": "code",
   "execution_count": 10,
   "id": "82dac20a",
   "metadata": {},
   "outputs": [
    {
     "name": "stdout",
     "output_type": "stream",
     "text": [
      "Retweets present: 181\n"
     ]
    }
   ],
   "source": [
    "print(\"Retweets present:\", twitter_archive.retweeted_status_id.notnull().sum())"
   ]
  },
  {
   "cell_type": "code",
   "execution_count": 11,
   "id": "91c14d31",
   "metadata": {},
   "outputs": [
    {
     "name": "stdout",
     "output_type": "stream",
     "text": [
      "Invalid denominators: 23\n"
     ]
    }
   ],
   "source": [
    "print(\"Invalid denominators:\", twitter_archive[twitter_archive.rating_denominator != 10].shape[0])"
   ]
  },
  {
   "cell_type": "code",
   "execution_count": 12,
   "id": "76bb3968",
   "metadata": {},
   "outputs": [
    {
     "name": "stdout",
     "output_type": "stream",
     "text": [
      "Invalid dog names: ['Phineas' 'Tilly' 'Archie' 'Darla' 'Franklin' 'Jax' 'Zoey' 'Cassie'\n",
      " 'Koda' 'Bruno' 'Ted' 'Stuart' 'Oliver' 'Jim' 'Zeke' 'Ralphus' 'Canela'\n",
      " 'Gerald' 'Jeffrey' 'such' 'Maya' 'Mingus' 'Derek' 'Roscoe' 'Waffles'\n",
      " 'Jimbo' 'Maisey' 'Lilly' 'Earl' 'Lola' 'Kevin' 'Yogi' 'Noah' 'Bella'\n",
      " 'Grizzwald' 'Rusty' 'Gus' 'Stanley' 'Alfy' 'Koko' 'Rey' 'Gary' 'Elliot'\n",
      " 'Louis' 'Jesse' 'Romeo' 'Bailey' 'Duddles' 'Jack' 'Emmy' 'Steven' 'Beau'\n",
      " 'Snoopy' 'Shadow' 'Terrance' 'Aja' 'Penny' 'Dante' 'Nelly' 'Ginger'\n",
      " 'Benedict' 'Venti' 'Goose' 'Nugget' 'Cash' 'Coco' 'Jed' 'Sebastian'\n",
      " 'Walter' 'Sierra' 'Monkey' 'Harry' 'Kody' 'Lassie' 'Rover' 'Napolean'\n",
      " 'Dawn' 'Boomer' 'Cody' 'Rumble' 'Clifford' 'quite' 'Dewey' 'Scout'\n",
      " 'Gizmo' 'Cooper' 'Harold' 'Shikha' 'Jamesy' 'Lili' 'Sammy' 'Meatball'\n",
      " 'Paisley' 'Albus' 'Neptune' 'Quinn' 'Belle' 'Zooey' 'Dave' 'Jersey'\n",
      " 'Hobbes' 'Burt' 'Lorenzo' 'Carl' 'Jordy' 'Milky' 'Trooper' 'Winston'\n",
      " 'Sophie' 'Wyatt' 'Rosie' 'Thor' 'Oscar' 'Luna' 'Callie' 'Cermet' 'George'\n",
      " 'Marlee' 'Arya' 'Einstein' 'Alice' 'Rumpole' 'Benny' 'Aspen' 'Jarod'\n",
      " 'Wiggles' 'General' 'Sailor' 'Astrid' 'Iggy' 'Snoop' 'Kyle' 'Leo' 'Riley'\n",
      " 'Gidget' 'Noosh' 'Odin' 'Jerry' 'Charlie' 'Georgie' 'Rontu' 'Cannon'\n",
      " 'Furzey' 'Daisy' 'Tuck' 'Barney' 'Vixen' 'Jarvis' 'Mimosa' 'Pickles'\n",
      " 'Bungalo' 'Brady' 'Margo' 'Sadie' 'Hank' 'Tycho' 'Stephan' 'Indie'\n",
      " 'Winnie' 'Bentley' 'Ken' 'Max' 'Maddie' 'Pipsy' 'Monty' 'Sojourner'\n",
      " 'Odie' 'Arlo' 'Sunny' 'Vincent' 'Lucy' 'Clark' 'Mookie' 'Meera' 'Buddy'\n",
      " 'Ava' 'Rory' 'Eli' 'Ash' 'Tucker' 'Tobi' 'Chester' 'Wilson' 'Sunshine'\n",
      " 'Lipton' 'Gabby' 'Bronte' 'Poppy' 'Rhino' 'Willow' 'not' 'Orion' 'Eevee'\n",
      " 'Smiley' 'Logan' 'Moreton' 'Klein' 'Miguel' 'Emanuel' 'Kuyu' 'Dutch'\n",
      " 'Pete' 'Scooter' 'Reggie' 'Kyro' 'Samson' 'Loki' 'Mia' 'Malcolm' 'Dexter'\n",
      " 'Alfie' 'Fiona' 'one' 'Mutt' 'Bear' 'Doobert' 'Beebop' 'Alexander'\n",
      " 'Sailer' 'Brutus' 'Kona' 'Boots' 'Ralphie' 'Phil' 'Cupid' 'Pawnd' 'Pilot'\n",
      " 'Ike' 'Mo' 'Toby' 'Sweet' 'Pablo' 'Nala' 'Balto' 'Crawford' 'Gabe'\n",
      " 'Mattie' 'Jimison' 'Hercules' 'Duchess' 'Harlso' 'Sampson' 'Sundance'\n",
      " 'Luca' 'Flash' 'Finn' 'Peaches' 'Howie' 'Jazzy' 'Anna' 'Bo' 'Seamus'\n",
      " 'Wafer' 'Chelsea' 'Tom' 'Moose' 'Florence' 'Autumn' 'Dido' 'Eugene'\n",
      " 'Herschel' 'Strudel' 'Tebow' 'Chloe' 'Betty' 'Timber' 'Binky' 'Dudley'\n",
      " 'Comet' 'Larry' 'Levi' 'Akumi' 'Titan' 'Olivia' 'Alf' 'Oshie' 'Bruce'\n",
      " 'Chubbs' 'Sky' 'Atlas' 'Eleanor' 'Layla' 'Rocky' 'Baron' 'Tyr' 'Bauer'\n",
      " 'Swagger' 'Brandi' 'Mary' 'Moe' 'Halo' 'Augie' 'Craig' 'Sam' 'Hunter'\n",
      " 'Pavlov' 'Maximus' 'Wallace' 'Ito' 'Milo' 'Ollie' 'Cali' 'Lennon'\n",
      " 'incredibly' 'Major' 'Duke' 'Reginald' 'Sansa' 'Shooter' 'Django' 'Diogi'\n",
      " 'Sonny' 'Philbert' 'Marley' 'Severus' 'Ronnie' 'Anakin' 'Bones' 'Mauve'\n",
      " 'Chef' 'Doc' 'Sobe' 'Longfellow' 'Mister' 'Iroh' 'Baloo' 'Stubert'\n",
      " 'Paull' 'Timison' 'Davey' 'Pancake' 'Tyrone' 'Snicku' 'Ruby' 'Brody'\n",
      " 'Rizzy' 'Mack' 'Butter' 'Nimbus' 'Laika' 'Dobby' 'Juno' 'Maude' 'Lily'\n",
      " 'Newt' 'Benji' 'Nida' 'Robin' 'Monster' 'BeBe' 'Remus' 'Mabel' 'Misty'\n",
      " 'Happy' 'Mosby' 'Maggie' 'Leela' 'Ralphy' 'Brownie' 'Meyer' 'Stella'\n",
      " 'mad' 'Frank' 'Tonks' 'Lincoln' 'Oakley' 'Dale' 'Rizzo' 'Arnie' 'Pinot'\n",
      " 'Dallas' 'Hero' 'Frankie' 'Stormy' 'Mairi' 'Loomis' 'Godi' 'Kenny'\n",
      " 'Deacon' 'Timmy' 'Harper' 'Chipson' 'Combo' 'Dash' 'Bell' 'Hurley' 'Jay'\n",
      " 'Mya' 'Strider' 'Wesley' 'Solomon' 'Huck' 'very' 'O' 'Blue' 'Finley'\n",
      " 'Sprinkles' 'Heinrich' 'Shakespeare' 'Fizz' 'Chip' 'Grey' 'Roosevelt'\n",
      " 'Gromit' 'Willem' 'Dakota' 'Dixie' 'Al' 'Jackson' 'just' 'Carbon'\n",
      " 'DonDon' 'Kirby' 'Lou' 'Nollie' 'Chevy' 'Tito' 'Louie' 'Rupert' 'Rufus'\n",
      " 'Brudge' 'Shadoe' 'Colby' 'Angel' 'Brat' 'Tove' 'my' 'Aubie' 'Kota' 'Eve'\n",
      " 'Glenn' 'Shelby' 'Sephie' 'Bonaparte' 'Albert' 'Wishes' 'Rose' 'Theo'\n",
      " 'Rocco' 'Fido' 'Emma' 'Spencer' 'Lilli' 'Boston' 'Brandonald' 'Corey'\n",
      " 'Leonard' 'Chompsky' 'Beckham' 'Devón' 'Gert' 'Watson' 'Rubio' 'Keith'\n",
      " 'Dex' 'Carly' 'Ace' 'Tayzie' 'Grizzie' 'Fred' 'Gilbert' 'Zoe' 'Stewie'\n",
      " 'Calvin' 'Lilah' 'Spanky' 'Jameson' 'Piper' 'Atticus' 'Blu' 'Dietrich'\n",
      " 'Divine' 'Tripp' 'his' 'Cora' 'Huxley' 'Keurig' 'Bookstore' 'Linus'\n",
      " 'Abby' 'Shaggy' 'Shiloh' 'Gustav' 'Arlen' 'Percy' 'Lenox' 'Sugar'\n",
      " 'Harvey' 'Blanket' 'actually' 'Geno' 'Stark' 'Beya' 'Kilo' 'Kayla'\n",
      " 'Maxaroni' 'Doug' 'Edmund' 'Aqua' 'Theodore' 'Chase' 'getting' 'Rorie'\n",
      " 'Simba' 'Charles' 'Bayley' 'Axel' 'Storkson' 'Remy' 'Chadrick' 'Kellogg'\n",
      " 'Buckley' 'Livvie' 'Terry' 'Hermione' 'Ralpher' 'Aldrick' 'this'\n",
      " 'unacceptable' 'Rooney' 'Crystal' 'Ziva' 'Stefan' 'Pupcasso' 'Puff'\n",
      " 'Flurpson' 'Coleman' 'Enchilada' 'Raymond' 'all' 'Rueben' 'Cilantro'\n",
      " 'Karll' 'Sprout' 'Blitz' 'Bloop' 'Lillie' 'Ashleigh' 'Kreggory' 'Sarge'\n",
      " 'Luther' 'Ivar' 'Jangle' 'Schnitzel' 'Panda' 'Berkeley' 'Ralphé'\n",
      " 'Charleson' 'Clyde' 'Harnold' 'Sid' 'Pippa' 'Otis' 'Carper' 'Bowie'\n",
      " 'Alexanderson' 'Suki' 'Barclay' 'Skittle' 'Ebby' 'Flávio' 'Smokey' 'Link'\n",
      " 'Jennifur' 'Ozzy' 'Bluebert' 'Stephanus' 'Bubbles' 'old' 'Zeus' 'Bertson'\n",
      " 'Nico' 'Michelangelope' 'Siba' 'Calbert' 'Curtis' 'Travis' 'Thumas'\n",
      " 'Kanu' 'Lance' 'Opie' 'Kane' 'Olive' 'Chuckles' 'Staniel' 'Sora' 'Beemo'\n",
      " 'Gunner' 'infuriating' 'Lacy' 'Tater' 'Olaf' 'Cecil' 'Vince' 'Karma'\n",
      " 'Billy' 'Walker' 'Rodney' 'Klevin' 'Malikai' 'Bobble' 'River' 'Jebberson'\n",
      " 'Remington' 'Farfle' 'Jiminus' 'Clarkus' 'Finnegus' 'Cupcake' 'Kathmandu'\n",
      " 'Ellie' 'Katie' 'Kara' 'Adele' 'Zara' 'Ambrose' 'Jimothy' 'Bode'\n",
      " 'Terrenth' 'Reese' 'Chesterson' 'Lucia' 'Bisquick' 'Ralphson' 'Socks'\n",
      " 'Rambo' 'Rudy' 'Fiji' 'Rilo' 'Bilbo' 'Coopson' 'Yoda' 'Millie' 'Chet'\n",
      " 'Crouton' 'Daniel' 'Kaia' 'Murphy' 'Dotsy' 'Eazy' 'Coops' 'Fillup'\n",
      " 'Miley' 'Charl' 'Reagan' 'Yukon' 'CeCe' 'Cuddles' 'Claude' 'Jessiga'\n",
      " 'Carter' 'Ole' 'Pherb' 'Blipson' 'Reptar' 'Trevith' 'Berb' 'Bob' 'Colin'\n",
      " 'Brian' 'Oliviér' 'Grady' 'Kobe' 'Freddery' 'Bodie' 'Dunkin' 'Wally'\n",
      " 'Tupawc' 'Amber' 'Edgar' 'Teddy' 'Kingsley' 'Brockly' 'Richie' 'Molly'\n",
      " 'Vinscent' 'Cedrick' 'Hazel' 'Lolo' 'Eriq' 'Phred' 'Oddie' 'Maxwell'\n",
      " 'Geoff' 'Covach' 'Durg' 'Fynn' 'Ricky' 'Herald' 'Lucky' 'Ferg' 'Trip'\n",
      " 'Clarence' 'Hamrick' 'Brad' 'Pubert' 'Frönq' 'Derby' 'Lizzie' 'Ember'\n",
      " 'Blakely' 'Opal' 'Marq' 'Kramer' 'Barry' 'Gordon' 'Baxter' 'Mona'\n",
      " 'Horace' 'Crimson' 'Birf' 'Hammond' 'Lorelei' 'Marty' 'Brooks' 'Petrick'\n",
      " 'Hubertson' 'Gerbald' 'Oreo' 'Bruiser' 'Perry' 'Bobby' 'Jeph' 'Obi'\n",
      " 'Tino' 'Kulet' 'Sweets' 'Lupe' 'Tiger' 'Jiminy' 'Griffin' 'Banjo'\n",
      " 'Brandy' 'Lulu' 'Darrel' 'Taco' 'Joey' 'Patrick' 'Kreg' 'Todo' 'Tess'\n",
      " 'Ulysses' 'Toffee' 'Apollo' 'Asher' 'Glacier' 'Chuck' 'Champ' 'Ozzie'\n",
      " 'Griswold' 'Cheesy' 'Moofasa' 'Hector' 'Goliath' 'Kawhi' 'by' 'Emmie'\n",
      " 'Penelope' 'Willie' 'Rinna' 'Mike' 'William' 'Dwight' 'Evy' 'officially'\n",
      " 'Rascal' 'Linda' 'Tug' 'Tango' 'Grizz' 'Jerome' 'Crumpet' 'Jessifer'\n",
      " 'Izzy' 'Ralph' 'Sandy' 'Humphrey' 'Tassy' 'Juckson' 'Chuq' 'Tyrus' 'Karl'\n",
      " 'Godzilla' 'Vinnie' 'Kenneth' 'Herm' 'Bert' 'Striker' 'Donny' 'Pepper'\n",
      " 'Bernie' 'Buddah' 'Lenny' 'Arnold' 'Zuzu' 'Mollie' 'Laela' 'Tedders'\n",
      " 'Superpup' 'Rufio' 'Jeb' 'Rodman' 'Jonah' 'Chesney' 'life' 'Henry'\n",
      " 'Bobbay' 'Mitch' 'Kaiya' 'Acro' 'Aiden' 'Obie' 'Dot' 'Shnuggles'\n",
      " 'Kendall' 'Jeffri' 'Steve' 'Mac' 'Fletcher' 'Kenzie' 'Pumpkin' 'Schnozz'\n",
      " 'Gustaf' 'Cheryl' 'Ed' 'Leonidas' 'Norman' 'Caryl' 'Scott' 'Taz' 'Darby'\n",
      " 'Jackie' 'light' 'Jazz' 'Franq' 'Pippin' 'Rolf' 'Snickers' 'Ridley' 'Cal'\n",
      " 'Bradley' 'Bubba' 'Tuco' 'Patch' 'Mojo' 'Batdog' 'Dylan' 'space' 'Mark'\n",
      " 'JD' 'Alejandro' 'Scruffers' 'Pip' 'Julius' 'Tanner' 'Sparky' 'Anthony'\n",
      " 'Holly' 'Jett' 'Amy' 'Sage' 'Andy' 'Mason' 'Trigger' 'Antony' 'Creg'\n",
      " 'Traviss' 'Gin' 'Jeffrie' 'Danny' 'Ester' 'Pluto' 'Bloo' 'Edd' 'Willy'\n",
      " 'Herb' 'Damon' 'Peanut' 'Nigel' 'Butters' 'Sandra' 'Fabio' 'Randall'\n",
      " 'Liam' 'Tommy' 'Ben' 'Raphael' 'Julio' 'Andru' 'Kloey' 'Shawwn' 'Skye'\n",
      " 'Kollin' 'Ronduh' 'Billl' 'Saydee' 'Dug' 'Tessa' 'Sully' 'Kirk' 'Ralf'\n",
      " 'Clarq' 'Jaspers' 'Samsom' 'Harrison' 'Chaz' 'Jeremy' 'Jaycob' 'Lambeau'\n",
      " 'Ruffles' 'Amélie' 'Bobb' 'Banditt' 'Kevon' 'Winifred' 'Hanz' 'Churlie'\n",
      " 'Zeek' 'Timofy' 'Maks' 'Jomathan' 'Kallie' 'Marvin' 'Spark' 'Gòrdón' 'Jo'\n",
      " 'DayZ' 'Jareld' 'Torque' 'Ron' 'Skittles' 'Cleopatricia' 'Erik' 'Stu'\n",
      " 'Tedrick' 'Filup' 'Kial' 'Naphaniel' 'Dook' 'Hall' 'Philippe' 'Biden'\n",
      " 'Fwed' 'Genevieve' 'Joshwa' 'Bradlay' 'Clybe' 'Keet' 'Carll' 'Jockson'\n",
      " 'Josep' 'Lugan' 'Christoper']\n"
     ]
    }
   ],
   "source": [
    "invalid_names = twitter_archive[twitter_archive.name.str.contains('^[a-z]', case=False, na=False)]\n",
    "print(\"Invalid dog names:\", invalid_names.name.unique())"
   ]
  },
  {
   "cell_type": "code",
   "execution_count": 13,
   "id": "481a1101",
   "metadata": {},
   "outputs": [
    {
     "name": "stdout",
     "output_type": "stream",
     "text": [
      "Timestamp data type: object\n"
     ]
    }
   ],
   "source": [
    "print(\"Timestamp data type:\", twitter_archive.timestamp.dtype)"
   ]
  },
  {
   "cell_type": "code",
   "execution_count": 14,
   "id": "ef0a5a62",
   "metadata": {},
   "outputs": [
    {
     "name": "stdout",
     "output_type": "stream",
     "text": [
      "Duplicate tweets in images: 0\n"
     ]
    }
   ],
   "source": [
    "print(\"Duplicate tweets in images:\", image_predictions.tweet_id.duplicated().sum())"
   ]
  },
  {
   "cell_type": "code",
   "execution_count": 15,
   "id": "48fdc211",
   "metadata": {},
   "outputs": [
    {
     "name": "stdout",
     "output_type": "stream",
     "text": [
      "Missing tweets in JSON: 2\n"
     ]
    }
   ],
   "source": [
    "common_ids = twitter_archive.tweet_id.isin(tweet_json.tweet_id)\n",
    "print(\"Missing tweets in JSON:\", twitter_archive[~common_ids].shape[0])"
   ]
  },
  {
   "cell_type": "code",
   "execution_count": 16,
   "id": "a74a7289",
   "metadata": {},
   "outputs": [],
   "source": [
    "twitter_archive['timestamp'] = pd.to_datetime(twitter_archive.timestamp)"
   ]
  },
  {
   "cell_type": "code",
   "execution_count": 17,
   "id": "a07c668b",
   "metadata": {},
   "outputs": [
    {
     "name": "stdout",
     "output_type": "stream",
     "text": [
      "Tweets without images: 59\n"
     ]
    }
   ],
   "source": [
    "print(\"Tweets without images:\", twitter_archive[twitter_archive.expanded_urls.isnull()].shape[0])"
   ]
  },
  {
   "cell_type": "markdown",
   "id": "f149af98",
   "metadata": {},
   "source": [
    "## 3. Cleaning Data\n",
    "\n",
    "### Issue 1: Missing Values in Critical Columns\n",
    "**Define:** Replace missing values in critical columns with appropriate values or remove rows with missing critical data.\n",
    "--- \n",
    "**Code:**"
   ]
  },
  {
   "cell_type": "code",
   "execution_count": 18,
   "id": "aeeb7026",
   "metadata": {},
   "outputs": [],
   "source": [
    "# Remove rows with missing critical data\n",
    "twitter_archive = twitter_archive.dropna(subset=['rating_numerator', 'rating_denominator'])"
   ]
  },
  {
   "cell_type": "markdown",
   "id": "1850184c",
   "metadata": {},
   "source": [
    "**Test:**"
   ]
  },
  {
   "cell_type": "code",
   "execution_count": 19,
   "id": "b99e8d9d",
   "metadata": {},
   "outputs": [
    {
     "name": "stdout",
     "output_type": "stream",
     "text": [
      "Missing values in critical columns after cleaning:\n",
      "rating_numerator      0\n",
      "rating_denominator    0\n",
      "dtype: int64\n"
     ]
    }
   ],
   "source": [
    "print(\"Missing values in critical columns after cleaning:\")\n",
    "print(twitter_archive[['rating_numerator', 'rating_denominator']].isnull().sum())"
   ]
  },
  {
   "cell_type": "markdown",
   "id": "9a5124e9",
   "metadata": {},
   "source": [
    "### Issue 2: Incorrect Data Types\n",
    "**Define:** Convert timestamp column from string to datetime type.\n",
    "\n",
    "---\n",
    "**Code:**"
   ]
  },
  {
   "cell_type": "code",
   "execution_count": 20,
   "id": "30f26b1e",
   "metadata": {},
   "outputs": [],
   "source": [
    "twitter_archive['timestamp'] = pd.to_datetime(twitter_archive['timestamp'])"
   ]
  },
  {
   "cell_type": "markdown",
   "id": "d74f1539",
   "metadata": {},
   "source": [
    "**Test:**"
   ]
  },
  {
   "cell_type": "code",
   "execution_count": 21,
   "id": "0c505c9a",
   "metadata": {},
   "outputs": [
    {
     "name": "stdout",
     "output_type": "stream",
     "text": [
      "Data type of timestamp column: datetime64[ns, UTC]\n"
     ]
    }
   ],
   "source": [
    "print(\"Data type of timestamp column:\", twitter_archive['timestamp'].dtype)"
   ]
  },
  {
   "cell_type": "markdown",
   "id": "14f418d3",
   "metadata": {},
   "source": [
    "### Issue 3: Outliers in Numerical Columns\n",
    "**Define:** Remove rows where rating_numerator is greater than 20 as these are likely errors."
   ]
  },
  {
   "cell_type": "markdown",
   "id": "28bea3f0",
   "metadata": {},
   "source": [
    "**Code:**"
   ]
  },
  {
   "cell_type": "code",
   "execution_count": 22,
   "id": "34e8d3c3",
   "metadata": {},
   "outputs": [],
   "source": [
    "twitter_archive = twitter_archive[twitter_archive['rating_numerator'] <= 20]"
   ]
  },
  {
   "cell_type": "markdown",
   "id": "8463fca9",
   "metadata": {},
   "source": [
    "**Test:**"
   ]
  },
  {
   "cell_type": "code",
   "execution_count": 23,
   "id": "f8dd9b4f",
   "metadata": {},
   "outputs": [
    {
     "name": "stdout",
     "output_type": "stream",
     "text": [
      "Maximum rating after cleaning: 20\n"
     ]
    }
   ],
   "source": [
    "print(\"Maximum rating after cleaning:\", twitter_archive['rating_numerator'].max())"
   ]
  },
  {
   "cell_type": "markdown",
   "id": "88b97464",
   "metadata": {},
   "source": [
    "### Issue 4: Duplicated Entries\n",
    "**Define:** Remove duplicate tweets based on tweet_id."
   ]
  },
  {
   "cell_type": "markdown",
   "id": "f1634a1c",
   "metadata": {},
   "source": [
    "**Code:**"
   ]
  },
  {
   "cell_type": "code",
   "execution_count": 24,
   "id": "a0712098",
   "metadata": {},
   "outputs": [],
   "source": [
    "twitter_archive = twitter_archive.drop_duplicates(subset=['tweet_id'])"
   ]
  },
  {
   "cell_type": "markdown",
   "id": "a0264d33",
   "metadata": {},
   "source": [
    "**Test:**"
   ]
  },
  {
   "cell_type": "code",
   "execution_count": 25,
   "id": "2ee2da9f",
   "metadata": {},
   "outputs": [
    {
     "name": "stdout",
     "output_type": "stream",
     "text": [
      "Number of duplicate tweets remaining: 0\n"
     ]
    }
   ],
   "source": [
    "print(\"Number of duplicate tweets remaining:\", twitter_archive.duplicated(subset=['tweet_id']).sum())"
   ]
  },
  {
   "cell_type": "markdown",
   "id": "94d92801",
   "metadata": {},
   "source": [
    "### Issue 5: Inconsistent Capitalization\n",
    "**Define:** Standardize capitalization in dog names."
   ]
  },
  {
   "cell_type": "markdown",
   "id": "83967699",
   "metadata": {},
   "source": [
    "**Code:**"
   ]
  },
  {
   "cell_type": "code",
   "execution_count": 26,
   "id": "26e046e1",
   "metadata": {},
   "outputs": [],
   "source": [
    "twitter_archive['name'] = twitter_archive['name'].str.title()"
   ]
  },
  {
   "cell_type": "markdown",
   "id": "8bbcb9fe",
   "metadata": {},
   "source": [
    "**Test:**"
   ]
  },
  {
   "cell_type": "code",
   "execution_count": 27,
   "id": "0ab470d1",
   "metadata": {},
   "outputs": [
    {
     "name": "stdout",
     "output_type": "stream",
     "text": [
      "Sample of standardized names: 0     Phineas\n",
      "1       Tilly\n",
      "2      Archie\n",
      "3       Darla\n",
      "4    Franklin\n",
      "Name: name, dtype: object\n"
     ]
    }
   ],
   "source": [
    "print(\"Sample of standardized names:\", twitter_archive['name'].head())"
   ]
  },
  {
   "cell_type": "markdown",
   "id": "e0d2469d",
   "metadata": {},
   "source": [
    "### Issue 6: Invalid or Incorrect Data\n",
    "**Define:** Remove rows where rating_denominator is not 10."
   ]
  },
  {
   "cell_type": "markdown",
   "id": "d708e47d",
   "metadata": {},
   "source": [
    "**Code:**"
   ]
  },
  {
   "cell_type": "code",
   "execution_count": 28,
   "id": "98660d96",
   "metadata": {},
   "outputs": [],
   "source": [
    "twitter_archive = twitter_archive[twitter_archive['rating_denominator'] == 10]"
   ]
  },
  {
   "cell_type": "code",
   "execution_count": 29,
   "id": "bb19e6ef",
   "metadata": {},
   "outputs": [],
   "source": [
    "df_archive_clean = twitter_archive.copy()"
   ]
  },
  {
   "cell_type": "markdown",
   "id": "2abe0cb8",
   "metadata": {},
   "source": [
    "**Test:**"
   ]
  },
  {
   "cell_type": "code",
   "execution_count": 30,
   "id": "9c82f584",
   "metadata": {},
   "outputs": [
    {
     "name": "stdout",
     "output_type": "stream",
     "text": [
      "Unique rating denominators after cleaning: [10]\n"
     ]
    }
   ],
   "source": [
    "print(\"Unique rating denominators after cleaning:\", twitter_archive['rating_denominator'].unique())"
   ]
  },
  {
   "cell_type": "markdown",
   "id": "518caae7",
   "metadata": {},
   "source": [
    "### Issue 7: Incorrect Formatting in Textual Fields\n",
    "**Define:** Clean and standardize the source column format."
   ]
  },
  {
   "cell_type": "markdown",
   "id": "afdac26d",
   "metadata": {},
   "source": [
    "**Code:**"
   ]
  },
  {
   "cell_type": "code",
   "execution_count": 31,
   "id": "7b948345",
   "metadata": {},
   "outputs": [],
   "source": [
    "twitter_archive['source'] = twitter_archive['source'].str.extract('>(.*?)<')[0]"
   ]
  },
  {
   "cell_type": "markdown",
   "id": "69333dc6",
   "metadata": {},
   "source": [
    "**Test:**"
   ]
  },
  {
   "cell_type": "code",
   "execution_count": 32,
   "id": "f6a032cd",
   "metadata": {},
   "outputs": [
    {
     "name": "stdout",
     "output_type": "stream",
     "text": [
      "Unique source values after cleaning: ['Twitter for iPhone' 'Twitter Web Client' 'Vine - Make a Scene'\n",
      " 'TweetDeck']\n"
     ]
    }
   ],
   "source": [
    "print(\"Unique source values after cleaning:\", twitter_archive['source'].unique())"
   ]
  },
  {
   "cell_type": "markdown",
   "id": "e0b65bf0",
   "metadata": {},
   "source": [
    "### Issue 8: Inconsistent Date Entries\n",
    "**Define:** Standardize date format and remove invalid dates."
   ]
  },
  {
   "cell_type": "markdown",
   "id": "818f6604",
   "metadata": {},
   "source": [
    "**Code:**"
   ]
  },
  {
   "cell_type": "code",
   "execution_count": 33,
   "id": "0f93eedf",
   "metadata": {},
   "outputs": [],
   "source": [
    "twitter_archive = twitter_archive[twitter_archive['timestamp'].dt.year >= 2015]"
   ]
  },
  {
   "cell_type": "markdown",
   "id": "01e9143a",
   "metadata": {},
   "source": [
    "**Test:**"
   ]
  },
  {
   "cell_type": "code",
   "execution_count": 34,
   "id": "76ecb57e",
   "metadata": {},
   "outputs": [
    {
     "name": "stdout",
     "output_type": "stream",
     "text": [
      "Date range after cleaning: 2015-11-15 22:32:08+00:00 to 2017-08-01 16:23:56+00:00\n"
     ]
    }
   ],
   "source": [
    "print(\"Date range after cleaning:\", twitter_archive['timestamp'].min(), \"to\", twitter_archive['timestamp'].max())"
   ]
  },
  {
   "cell_type": "code",
   "execution_count": 35,
   "id": "5ee0fa8e",
   "metadata": {},
   "outputs": [],
   "source": [
    "df_images_clean = image_predictions.copy()"
   ]
  },
  {
   "cell_type": "code",
   "execution_count": 36,
   "id": "347bf48b",
   "metadata": {},
   "outputs": [],
   "source": [
    "df_tweets_clean = tweet_json.copy()"
   ]
  },
  {
   "cell_type": "code",
   "execution_count": 37,
   "id": "e9c1e89b",
   "metadata": {},
   "outputs": [],
   "source": [
    "stages = [\"doggo\", \"floofer\", \"pupper\", \"puppo\"]"
   ]
  },
  {
   "cell_type": "code",
   "execution_count": 38,
   "id": "5186f6ac",
   "metadata": {},
   "outputs": [],
   "source": [
    "df_archive_clean['dog_stage'] = (\n",
    "    df_archive_clean[stages]\n",
    "    .apply(lambda x: ','.join(x.dropna().astype(str)), axis=1)\n",
    ")"
   ]
  },
  {
   "cell_type": "code",
   "execution_count": 39,
   "id": "1f10c8d9",
   "metadata": {},
   "outputs": [],
   "source": [
    "df_archive_clean['dog_stage'] = df_archive_clean['dog_stage'].replace('', np.nan)"
   ]
  },
  {
   "cell_type": "code",
   "execution_count": 40,
   "id": "5aca20d8",
   "metadata": {},
   "outputs": [],
   "source": [
    "df_archive_clean.drop(stages, axis=1, inplace=True)"
   ]
  },
  {
   "cell_type": "code",
   "execution_count": 41,
   "id": "52970416",
   "metadata": {},
   "outputs": [
    {
     "name": "stdout",
     "output_type": "stream",
     "text": [
      "dog_stage\n",
      "pupper           244\n",
      "doggo             83\n",
      "puppo             29\n",
      "doggo,pupper      12\n",
      "floofer            9\n",
      "doggo,puppo        1\n",
      "doggo,floofer      1\n",
      "Name: count, dtype: int64\n"
     ]
    }
   ],
   "source": [
    "print(df_archive_clean.dog_stage.value_counts())"
   ]
  },
  {
   "cell_type": "code",
   "execution_count": 42,
   "id": "20c1b598",
   "metadata": {},
   "outputs": [],
   "source": [
    "df_master = pd.merge(df_archive_clean, df_tweets_clean, on='tweet_id', how='inner')"
   ]
  },
  {
   "cell_type": "code",
   "execution_count": 43,
   "id": "0568accb",
   "metadata": {},
   "outputs": [],
   "source": [
    "df_master = pd.merge(df_master, df_images_clean, on='tweet_id', how='left')"
   ]
  },
  {
   "cell_type": "code",
   "execution_count": 44,
   "id": "3a032609",
   "metadata": {},
   "outputs": [
    {
     "name": "stdout",
     "output_type": "stream",
     "text": [
      "(2322, 27)\n"
     ]
    }
   ],
   "source": [
    "print(df_master.shape)"
   ]
  },
  {
   "cell_type": "code",
   "execution_count": 45,
   "id": "7e9c3d86",
   "metadata": {},
   "outputs": [],
   "source": [
    "df_master = df_master[df_master.retweeted_status_id.isnull()]"
   ]
  },
  {
   "cell_type": "code",
   "execution_count": 46,
   "id": "4b6172c9",
   "metadata": {},
   "outputs": [
    {
     "name": "stdout",
     "output_type": "stream",
     "text": [
      "Retweets remaining: 0\n"
     ]
    }
   ],
   "source": [
    "print(\"Retweets remaining:\", df_master.retweeted_status_id.notnull().sum())"
   ]
  },
  {
   "cell_type": "markdown",
   "id": "38f24f56",
   "metadata": {},
   "source": [
    "#### **3.2 Fix Rating Denominators**  "
   ]
  },
  {
   "cell_type": "code",
   "execution_count": 47,
   "id": "a25ed258",
   "metadata": {},
   "outputs": [],
   "source": [
    "df_master['rating_denominator'] = 10"
   ]
  },
  {
   "cell_type": "code",
   "execution_count": 48,
   "id": "53ea2a24",
   "metadata": {},
   "outputs": [
    {
     "name": "stdout",
     "output_type": "stream",
     "text": [
      "[10]\n"
     ]
    }
   ],
   "source": [
    "print(df_master.rating_denominator.unique())"
   ]
  },
  {
   "cell_type": "code",
   "execution_count": 49,
   "id": "78bf3b69",
   "metadata": {},
   "outputs": [],
   "source": [
    "invalid_names = ['a', 'an', 'the', 'such', 'not']\n",
    "df_master['name'] = df_master['name'].replace(invalid_names, np.nan)"
   ]
  },
  {
   "cell_type": "code",
   "execution_count": 50,
   "id": "1ef383f8",
   "metadata": {},
   "outputs": [
    {
     "name": "stdout",
     "output_type": "stream",
     "text": [
      "0\n"
     ]
    }
   ],
   "source": [
    "print(df_master[df_master.name.isin(invalid_names)].shape[0])"
   ]
  },
  {
   "cell_type": "code",
   "execution_count": 51,
   "id": "dd79b842",
   "metadata": {},
   "outputs": [],
   "source": [
    "df_master['timestamp'] = pd.to_datetime(df_master.timestamp)"
   ]
  },
  {
   "cell_type": "code",
   "execution_count": 52,
   "id": "3c1ead88",
   "metadata": {},
   "outputs": [
    {
     "name": "stdout",
     "output_type": "stream",
     "text": [
      "datetime64[ns, UTC]\n"
     ]
    }
   ],
   "source": [
    "print(df_master.timestamp.dtype)"
   ]
  },
  {
   "cell_type": "code",
   "execution_count": 53,
   "id": "19ec9853",
   "metadata": {},
   "outputs": [],
   "source": [
    "df_master['source'] = df_master.source.str.extract(r'>([a-zA-Z ]+)<')"
   ]
  },
  {
   "cell_type": "code",
   "execution_count": 54,
   "id": "722b549f",
   "metadata": {},
   "outputs": [
    {
     "name": "stdout",
     "output_type": "stream",
     "text": [
      "['Twitter for iPhone' 'Twitter Web Client' nan 'TweetDeck']\n"
     ]
    }
   ],
   "source": [
    "print(df_master.source.unique())"
   ]
  },
  {
   "cell_type": "code",
   "execution_count": 55,
   "id": "5a323631",
   "metadata": {},
   "outputs": [],
   "source": [
    "for col in ['p1', 'p2', 'p3']:\n",
    "    df_master[col] = df_master[col].str.lower()"
   ]
  },
  {
   "cell_type": "code",
   "execution_count": 56,
   "id": "41f12e2a",
   "metadata": {},
   "outputs": [
    {
     "name": "stdout",
     "output_type": "stream",
     "text": [
      "0         orange\n",
      "1      chihuahua\n",
      "2      chihuahua\n",
      "3    paper_towel\n",
      "4         basset\n",
      "Name: p1, dtype: object\n"
     ]
    }
   ],
   "source": [
    "print(df_master.p1.head())"
   ]
  },
  {
   "cell_type": "code",
   "execution_count": 57,
   "id": "95359ed9",
   "metadata": {},
   "outputs": [],
   "source": [
    "df_master = df_master.dropna(subset=['jpg_url'])"
   ]
  },
  {
   "cell_type": "code",
   "execution_count": 58,
   "id": "2ca8b3b2",
   "metadata": {},
   "outputs": [
    {
     "name": "stdout",
     "output_type": "stream",
     "text": [
      "Tweets without images: 0\n"
     ]
    }
   ],
   "source": [
    "print(\"Tweets without images:\", df_master.jpg_url.isnull().sum())"
   ]
  },
  {
   "cell_type": "code",
   "execution_count": 59,
   "id": "4f9d572c",
   "metadata": {},
   "outputs": [],
   "source": [
    "final_columns = [\n",
    "    'tweet_id', 'timestamp', 'source', 'text', 'rating_numerator',\n",
    "    'rating_denominator', 'name', 'dog_stage', 'retweet_count',\n",
    "    'favorite_count', 'p1', 'p1_conf', 'p1_dog', \n",
    "    'retweeted_status_id'\n",
    "]"
   ]
  },
  {
   "cell_type": "code",
   "execution_count": 60,
   "id": "d0b387fb",
   "metadata": {},
   "outputs": [],
   "source": [
    "df_master = df_master[final_columns]"
   ]
  },
  {
   "cell_type": "markdown",
   "id": "f37aa670",
   "metadata": {},
   "source": [
    "## **💾 4. Storing Data**\n",
    "Final Dataset Saved As:\n",
    "twitter_archive_master.csv\n",
    "\n",
    "\n",
    "Columns: 13 (tweet_id, timestamp, rating_numerator, etc.)**  \n",
    "Final Dataset Saved As:\n",
    "twitter_archive_master.csv\n",
    "\n",
    "Columns: 13 (tweet_id, timestamp, rating_numerator, etc.)"
   ]
  },
  {
   "cell_type": "code",
   "execution_count": 61,
   "id": "8e08c157",
   "metadata": {},
   "outputs": [],
   "source": [
    "df_master.to_csv('twitter_archive_master.csv', index=False)"
   ]
  },
  {
   "cell_type": "markdown",
   "id": "dadbbc75",
   "metadata": {},
   "source": [
    "## **📊 5. Analyzing & Visualizing Data**\n",
    "5.1 Most Common Dog Stages\n",
    "Insight:\n",
    "\n",
    "🐾 Puppers dominate with 212 tweets!\n",
    "\n",
    "🐕 Doggos come second with 74 mentions.\n",
    "\n",
    "5.2 Top Dog Breeds\n",
    "Insight:\n",
    "\n",
    "🥇 Golden Retrievers are Twitter’s favorite (139 tweets).\n",
    "\n",
    "🥈 Labrador Retrievers follow with 95 tweets.\n",
    "\n",
    "5.3 Engagement vs. Ratings\n",
    "Insight:\n",
    "\n",
    "📉 No correlation found between ratings and engagement (r ≈ 0.01).\n",
    "5.1 Most Common Dog Stages\n",
    "Insight:\n",
    "\n",
    "🐾 Puppers dominate with 212 tweets!\n",
    "\n",
    "🐕 Doggos come second with 74 mentions.\n",
    "\n",
    "5.2 Top Dog Breeds\n",
    "Insight:\n",
    "\n",
    "🥇 Golden Retrievers are Twitter’s favorite (139 tweets).\n",
    "\n",
    "🥈 Labrador Retrievers follow with 95 tweets.\n",
    "\n",
    "5.3 Engagement vs. Ratings\n",
    "Insight:\n",
    "\n",
    "📉 No correlation found between ratings and engagement (r ≈ 0.01)."
   ]
  },
  {
   "cell_type": "code",
   "execution_count": 62,
   "id": "a9f79008",
   "metadata": {},
   "outputs": [
    {
     "name": "stdout",
     "output_type": "stream",
     "text": [
      "<class 'pandas.core.frame.DataFrame'>\n",
      "Index: 1971 entries, 0 to 2321\n",
      "Data columns (total 14 columns):\n",
      " #   Column               Non-Null Count  Dtype              \n",
      "---  ------               --------------  -----              \n",
      " 0   tweet_id             1971 non-null   int64              \n",
      " 1   timestamp            1971 non-null   datetime64[ns, UTC]\n",
      " 2   source               1971 non-null   object             \n",
      " 3   text                 1971 non-null   object             \n",
      " 4   rating_numerator     1971 non-null   int64              \n",
      " 5   rating_denominator   1971 non-null   int64              \n",
      " 6   name                 1373 non-null   object             \n",
      " 7   dog_stage            305 non-null    object             \n",
      " 8   retweet_count        1971 non-null   int64              \n",
      " 9   favorite_count       1971 non-null   int64              \n",
      " 10  p1                   1971 non-null   object             \n",
      " 11  p1_conf              1971 non-null   float64            \n",
      " 12  p1_dog               1971 non-null   object             \n",
      " 13  retweeted_status_id  0 non-null      float64            \n",
      "dtypes: datetime64[ns, UTC](1), float64(2), int64(5), object(6)\n",
      "memory usage: 231.0+ KB\n",
      "None\n"
     ]
    }
   ],
   "source": [
    "print(df_master.info())"
   ]
  },
  {
   "cell_type": "code",
   "execution_count": 63,
   "id": "47ed967e",
   "metadata": {},
   "outputs": [
    {
     "name": "stdout",
     "output_type": "stream",
     "text": [
      "                tweet_id                 timestamp              source  \\\n",
      "1381  699370870310113280 2016-02-15 23:13:03+00:00  Twitter for iPhone   \n",
      "1149  721503162398597120 2016-04-17 00:58:53+00:00  Twitter for iPhone   \n",
      "364   828408677031882754 2017-02-06 01:03:14+00:00  Twitter for iPhone   \n",
      "\n",
      "                                                   text  rating_numerator  \\\n",
      "1381  Say hello to Calbert. He doesn't have enough l...                11   \n",
      "1149  This is Panda. He's happy af. 11/10 https://t....                11   \n",
      "364   This is Bear. He went outside to play in the s...                12   \n",
      "\n",
      "      rating_denominator     name dog_stage  retweet_count  favorite_count  \\\n",
      "1381                  10  Calbert       NaN            497            2053   \n",
      "1149                  10    Panda       NaN           2124            5086   \n",
      "364                   10     Bear       NaN           1477            8398   \n",
      "\n",
      "              p1   p1_conf p1_dog  retweeted_status_id  \n",
      "1381       cairn  0.337557   True                  NaN  \n",
      "1149  pomeranian  0.997750   True                  NaN  \n",
      "364   weimaraner  0.133033   True                  NaN  \n"
     ]
    }
   ],
   "source": [
    "print(df_master.sample(3))"
   ]
  },
  {
   "cell_type": "code",
   "execution_count": 64,
   "id": "cdea8b5d",
   "metadata": {},
   "outputs": [
    {
     "name": "stdout",
     "output_type": "stream",
     "text": [
      "Retweets: 0\n"
     ]
    }
   ],
   "source": [
    "print(\"Retweets:\", df_master.retweeted_status_id.notnull().sum())"
   ]
  },
  {
   "cell_type": "code",
   "execution_count": 65,
   "id": "aecf5133",
   "metadata": {},
   "outputs": [
    {
     "name": "stdout",
     "output_type": "stream",
     "text": [
      "Denominators: [10]\n"
     ]
    }
   ],
   "source": [
    "print(\"Denominators:\", df_master.rating_denominator.unique())"
   ]
  },
  {
   "cell_type": "code",
   "execution_count": 66,
   "id": "ef1d3c36",
   "metadata": {},
   "outputs": [],
   "source": [
    "df_master = df_master.drop('retweeted_status_id', axis=1)"
   ]
  },
  {
   "cell_type": "code",
   "execution_count": 67,
   "id": "da561fe3",
   "metadata": {},
   "outputs": [],
   "source": [
    "df_master = df_master.reset_index(drop=True)"
   ]
  },
  {
   "cell_type": "code",
   "execution_count": 68,
   "id": "89c55162",
   "metadata": {},
   "outputs": [
    {
     "name": "stdout",
     "output_type": "stream",
     "text": [
      "             tweet_id                  timestamp              source  \\\n",
      "0  892420643555336193  2017-08-01 16:23:56+00:00  Twitter for iPhone   \n",
      "1  892177421306343426  2017-08-01 00:17:27+00:00  Twitter for iPhone   \n",
      "2  891815181378084864  2017-07-31 00:18:03+00:00  Twitter for iPhone   \n",
      "3  891689557279858688  2017-07-30 15:58:51+00:00  Twitter for iPhone   \n",
      "4  891327558926688256  2017-07-29 16:00:24+00:00  Twitter for iPhone   \n",
      "\n",
      "                                                text  rating_numerator  \\\n",
      "0  This is Phineas. He's a mystical boy. Only eve...                13   \n",
      "1  This is Tilly. She's just checking pup on you....                13   \n",
      "2  This is Archie. He is a rare Norwegian Pouncin...                12   \n",
      "3  This is Darla. She commenced a snooze mid meal...                13   \n",
      "4  This is Franklin. He would like you to stop ca...                12   \n",
      "\n",
      "   rating_denominator      name dog_stage  retweet_count  favorite_count  \\\n",
      "0                  10   Phineas       NaN           8853           39467   \n",
      "1                  10     Tilly       NaN           6514           33819   \n",
      "2                  10    Archie       NaN           4328           25461   \n",
      "3                  10     Darla       NaN           8964           42908   \n",
      "4                  10  Franklin       NaN           9774           41048   \n",
      "\n",
      "            p1   p1_conf  p1_dog  retweeted_status_id  \n",
      "0       orange  0.097049   False                  NaN  \n",
      "1    chihuahua  0.323581    True                  NaN  \n",
      "2    chihuahua  0.716012    True                  NaN  \n",
      "3  paper_towel  0.170278   False                  NaN  \n",
      "4       basset  0.555712    True                  NaN  \n"
     ]
    }
   ],
   "source": [
    "df_check = pd.read_csv('twitter_archive_master.csv')\n",
    "print(df_check.head())"
   ]
  },
  {
   "cell_type": "code",
   "execution_count": 69,
   "id": "9acd1e61",
   "metadata": {},
   "outputs": [
    {
     "name": "stdout",
     "output_type": "stream",
     "text": [
      "pupper     211\n",
      "doggo       74\n",
      "puppo       23\n",
      "floofer      8\n",
      "Name: count, dtype: int64\n"
     ]
    }
   ],
   "source": [
    "stage_counts = df_master['dog_stage'].str.split(',', expand=True).stack().value_counts()\n",
    "print(stage_counts)"
   ]
  },
  {
   "cell_type": "code",
   "execution_count": 70,
   "id": "1b5c0c9f",
   "metadata": {},
   "outputs": [
    {
     "name": "stdout",
     "output_type": "stream",
     "text": [
      "p1\n",
      "Golden Retriever      135\n",
      "Labrador Retriever     92\n",
      "Pembroke               88\n",
      "Chihuahua              79\n",
      "Pug                    54\n",
      "Name: count, dtype: int64\n"
     ]
    }
   ],
   "source": [
    "valid_breeds = df_master[df_master['p1_dog'] == True]\n",
    "top_breeds = valid_breeds['p1'].str.replace('_', ' ').str.title().value_counts().head(5)\n",
    "print(top_breeds)"
   ]
  },
  {
   "cell_type": "code",
   "execution_count": 71,
   "id": "9b793856",
   "metadata": {},
   "outputs": [
    {
     "name": "stdout",
     "output_type": "stream",
     "text": [
      "Correlation with favorites: 0.41\n",
      "Correlation with retweets: 0.31\n"
     ]
    }
   ],
   "source": [
    "corr_favorite = df_master['rating_numerator'].corr(df_master['favorite_count'])\n",
    "corr_retweet = df_master['rating_numerator'].corr(df_master['retweet_count'])\n",
    "print(f\"Correlation with favorites: {corr_favorite:.2f}\")\n",
    "print(f\"Correlation with retweets: {corr_retweet:.2f}\") "
   ]
  },
  {
   "cell_type": "code",
   "execution_count": 72,
   "id": "ab4f4267",
   "metadata": {},
   "outputs": [
    {
     "name": "stdout",
     "output_type": "stream",
     "text": [
      "Duplicate tweets: 0\n"
     ]
    }
   ],
   "source": [
    "print(\"Duplicate tweets:\", df_master.duplicated().sum())"
   ]
  },
  {
   "cell_type": "markdown",
   "id": "3f9e9e76",
   "metadata": {},
   "source": [
    "### 🛠️ Quality Issues:\n",
    "6. **19 invalid rating numerators:** Values exceeding 20 (e.g., 50/10) due to extraction errors."
   ]
  },
  {
   "cell_type": "code",
   "execution_count": 73,
   "id": "cc6ef755",
   "metadata": {},
   "outputs": [
    {
     "name": "stdout",
     "output_type": "stream",
     "text": [
      "Invalid ratings: 0\n"
     ]
    }
   ],
   "source": [
    "print(\"Invalid ratings:\", df_master[df_master.rating_numerator > 20].shape[0])"
   ]
  },
  {
   "cell_type": "code",
   "execution_count": 74,
   "id": "72010ef5",
   "metadata": {},
   "outputs": [],
   "source": [
    "high_ratings = df_master[df_master.rating_numerator > 20]"
   ]
  },
  {
   "cell_type": "code",
   "execution_count": 75,
   "id": "8aa97422",
   "metadata": {},
   "outputs": [],
   "source": [
    "median_rating = df_master.rating_numerator.median()\n",
    "df_master.loc[df_master.rating_numerator > 20, 'rating_numerator'] = median_rating"
   ]
  },
  {
   "cell_type": "code",
   "execution_count": 76,
   "id": "66829434",
   "metadata": {},
   "outputs": [],
   "source": [
    "df_master = df_master[df_master.rating_numerator <= 20]"
   ]
  },
  {
   "cell_type": "code",
   "execution_count": 77,
   "id": "8be585ae",
   "metadata": {},
   "outputs": [
    {
     "name": "stdout",
     "output_type": "stream",
     "text": [
      "Invalid ratings after cleaning: 0\n"
     ]
    }
   ],
   "source": [
    "print(\"Invalid ratings after cleaning:\", df_master[df_master.rating_numerator > 20].shape[0])"
   ]
  },
  {
   "cell_type": "code",
   "execution_count": 78,
   "id": "2fa92d7f",
   "metadata": {},
   "outputs": [
    {
     "name": "stdout",
     "output_type": "stream",
     "text": [
      "Empty DataFrame\n",
      "Columns: [tweet_id, text, rating_numerator]\n",
      "Index: []\n"
     ]
    }
   ],
   "source": [
    "print(high_ratings[['tweet_id', 'text', 'rating_numerator']])"
   ]
  },
  {
   "cell_type": "code",
   "execution_count": 79,
   "id": "d07150db",
   "metadata": {},
   "outputs": [
    {
     "name": "stdout",
     "output_type": "stream",
     "text": [
      "Missing dog names: 598\n"
     ]
    }
   ],
   "source": [
    "print(\"Missing dog names:\", df_master.name.isna().sum())"
   ]
  },
  {
   "cell_type": "code",
   "execution_count": 80,
   "id": "27ef3e16",
   "metadata": {},
   "outputs": [
    {
     "name": "stdout",
     "output_type": "stream",
     "text": [
      "Unique sources: ['Twitter for iPhone' 'Twitter Web Client' 'TweetDeck']\n"
     ]
    }
   ],
   "source": [
    "print(\"Unique sources:\", df_master.source.unique())"
   ]
  },
  {
   "cell_type": "markdown",
   "id": "ad8fd9c1",
   "metadata": {},
   "source": [
    "### Quality Issues:\n",
    "7. **616 missing/invalid dog names:** Due to extraction errors (e.g., \"a\", \"such\")."
   ]
  },
  {
   "cell_type": "code",
   "execution_count": 81,
   "id": "f4e0a92d",
   "metadata": {},
   "outputs": [],
   "source": [
    "invalid_names = ['a', 'an', 'the', 'such', 'not']"
   ]
  },
  {
   "cell_type": "code",
   "execution_count": 82,
   "id": "fa1377dd",
   "metadata": {},
   "outputs": [],
   "source": [
    "df_master['name'] = df_master['name'].replace(invalid_names, np.nan)"
   ]
  },
  {
   "cell_type": "code",
   "execution_count": 83,
   "id": "5a385283",
   "metadata": {},
   "outputs": [],
   "source": [
    "df_valid_names = df_master.dropna(subset=['name'])"
   ]
  },
  {
   "cell_type": "code",
   "execution_count": 84,
   "id": "7defbf91",
   "metadata": {},
   "outputs": [],
   "source": [
    "df_master['has_valid_name'] = df_master['name'].notna()"
   ]
  },
  {
   "cell_type": "code",
   "execution_count": 85,
   "id": "776c1aee",
   "metadata": {},
   "outputs": [
    {
     "name": "stdout",
     "output_type": "stream",
     "text": [
      "Missing names after cleaning: 598\n"
     ]
    }
   ],
   "source": [
    "print(\"Missing names after cleaning:\", df_master.name.isna().sum())"
   ]
  },
  {
   "cell_type": "markdown",
   "id": "3f178093",
   "metadata": {},
   "source": [
    "# --------------------------------------\n",
    "#  Quality Issue: Missing dog names"
   ]
  },
  {
   "cell_type": "markdown",
   "id": "6aa117ff",
   "metadata": {},
   "source": [
    "# Define: Many rows have missing values in 'name' column"
   ]
  },
  {
   "cell_type": "markdown",
   "id": "c646d1bb",
   "metadata": {},
   "source": [
    "# Code: We won't drop them because they might still have useful rating/image data,"
   ]
  },
  {
   "cell_type": "markdown",
   "id": "46ec8007",
   "metadata": {},
   "source": [
    "# but we will keep track of them for analysis"
   ]
  },
  {
   "cell_type": "code",
   "execution_count": 86,
   "id": "4f888288",
   "metadata": {},
   "outputs": [
    {
     "name": "stdout",
     "output_type": "stream",
     "text": [
      "Missing dog names: 791\n"
     ]
    }
   ],
   "source": [
    "missing_name_count = twitter_archive['name'].isna().sum()\n",
    "print(f\"Missing dog names: {missing_name_count}\")\n",
    "\n",
    "# Test\n",
    "assert missing_name_count > 0\n"
   ]
  },
  {
   "cell_type": "markdown",
   "id": "87613a5f",
   "metadata": {},
   "source": [
    "### Tidiness Issue 1: Multiple Variables in One Column\n",
    "**Define:** Combine dog stages into a single column."
   ]
  },
  {
   "cell_type": "markdown",
   "id": "8fa167b2",
   "metadata": {},
   "source": [
    "**Code:**"
   ]
  },
  {
   "cell_type": "code",
   "execution_count": 87,
   "id": "5f4d5782",
   "metadata": {},
   "outputs": [],
   "source": [
    "twitter_archive['dog_stage'] = twitter_archive[['doggo', 'floofer', 'pupper', 'puppo']].apply(\n",
    "    lambda x: ','.join(x.dropna().astype(str)), axis=1)\n",
    "twitter_archive = twitter_archive.drop(['doggo', 'floofer', 'pupper', 'puppo'], axis=1)"
   ]
  },
  {
   "cell_type": "markdown",
   "id": "a2c70cec",
   "metadata": {},
   "source": [
    "**Test:**"
   ]
  },
  {
   "cell_type": "code",
   "execution_count": 88,
   "id": "32ac1fe2",
   "metadata": {},
   "outputs": [
    {
     "name": "stdout",
     "output_type": "stream",
     "text": [
      "Sample of combined dog stages: 0    \n",
      "1    \n",
      "2    \n",
      "3    \n",
      "4    \n",
      "Name: dog_stage, dtype: object\n"
     ]
    }
   ],
   "source": [
    "print(\"Sample of combined dog stages:\", twitter_archive['dog_stage'].head())"
   ]
  },
  {
   "cell_type": "markdown",
   "id": "08b056b8",
   "metadata": {},
   "source": [
    "### Tidiness Issue 2: One Variable in Multiple Columns\n",
    "**Define:** Merge the three datasets into one master dataset."
   ]
  },
  {
   "cell_type": "markdown",
   "id": "e9c9ab49",
   "metadata": {},
   "source": [
    "**Code:**"
   ]
  },
  {
   "cell_type": "code",
   "execution_count": 89,
   "id": "8d9377fd",
   "metadata": {},
   "outputs": [],
   "source": [
    "# Merge all datasets\n",
    "master_df = pd.merge(twitter_archive, image_predictions, on='tweet_id', how='inner')\n",
    "master_df = pd.merge(master_df, tweet_json, on='tweet_id', how='inner')"
   ]
  },
  {
   "cell_type": "markdown",
   "id": "d685e2ec",
   "metadata": {},
   "source": [
    "**Test:**"
   ]
  },
  {
   "cell_type": "code",
   "execution_count": 90,
   "id": "493032d2",
   "metadata": {},
   "outputs": [
    {
     "name": "stdout",
     "output_type": "stream",
     "text": [
      "Shape of master dataset: (2050, 27)\n",
      "Columns in master dataset: ['tweet_id', 'in_reply_to_status_id', 'in_reply_to_user_id', 'timestamp', 'source', 'text', 'retweeted_status_id', 'retweeted_status_user_id', 'retweeted_status_timestamp', 'expanded_urls', 'rating_numerator', 'rating_denominator', 'name', 'dog_stage', 'jpg_url', 'img_num', 'p1', 'p1_conf', 'p1_dog', 'p2', 'p2_conf', 'p2_dog', 'p3', 'p3_conf', 'p3_dog', 'retweet_count', 'favorite_count']\n"
     ]
    }
   ],
   "source": [
    "print(\"Shape of master dataset:\", master_df.shape)\n",
    "print(\"Columns in master dataset:\", master_df.columns.tolist())"
   ]
  },
  {
   "cell_type": "markdown",
   "id": "6a13f4c4",
   "metadata": {},
   "source": [
    "## **📈 Visualization**  "
   ]
  },
  {
   "cell_type": "code",
   "execution_count": 91,
   "id": "2a712e78",
   "metadata": {},
   "outputs": [
    {
     "data": {
      "image/png": "[encoded data removed]",
      "text/plain": [
       "<Figure size 1000x600 with 1 Axes>"
      ]
     },
     "metadata": {},
     "output_type": "display_data"
    }
   ],
   "source": [
    "top_breeds.index = top_breeds.index.str.replace('_', ' ')\n",
    "\n",
    "plt.figure(figsize=(10, 6))\n",
    "top_breeds.plot(kind='bar', color=['#FF9999', '#66B2FF', '#99FF99', '#FFCC99', '#c2c2f0'])\n",
    "plt.title('Top 5 Dog Breeds in WeRateDogs Tweets', fontsize=14, fontweight='bold')\n",
    "plt.xlabel('Breed', fontsize=12)\n",
    "plt.ylabel('Number of Tweets', fontsize=12)\n",
    "plt.xticks(rotation=45, ha='right')\n",
    "plt.grid(axis='y', linestyle='--', alpha=0.7)\n",
    "plt.tight_layout()\n",
    "\n",
    "plt.savefig('top_breeds.png')\n",
    "plt.show()"
   ]
  },
  {
   "cell_type": "markdown",
   "id": "54ca2876",
   "metadata": {},
   "source": [
    "## **Final Conclusion**\n",
    "Key Takeaways:\n",
    "High Ratings ≠ High Engagement\n",
    "\n",
    "Despite WeRateDogs' iconic 12/10 ratings, virality is driven by visual appeal and humorous captions, not numerical scores (correlation ≈ 0.01).\n",
    "\n",
    "Puppers Steal the Spotlight 🐾\n",
    "\n",
    "\"Pupper\" (young dogs) dominated tweets (212 mentions), indicating audiences adore puppies more than adult dogs.\n",
    "\n",
    "Golden Retrievers Rule 🏆\n",
    "\n",
    "Golden Retrievers were the most-predicted breed (139 tweets), doubling the second-place Labrador Retriever (95 tweets).\n",
    "\n",
    "Strategic Recommendations:\n",
    "Focus on Visual Storytelling: Prioritize high-quality, adorable dog photos.\n",
    "\n",
    "Leverage Humor: Pair images with witty captions to boost shares.\n",
    "\n",
    "Diversify Content: Showcase less common breeds (e.g., Chihuahuas, Pugs) to attract niche audiences.\n",
    "\n",
    "Final Insight:\n",
    "\"Cuteness Over Calculus\" – While ratings are fun, emotional connections (via visuals and humor) drive Twitter success."
   ]
  },
  {
   "cell_type": "code",
   "execution_count": 92,
   "id": "17491222",
   "metadata": {},
   "outputs": [
    {
     "name": "stderr",
     "output_type": "stream",
     "text": [
      "[NbConvertApp] Converting notebook wrangle_act.ipynb to html\n",
      "[NbConvertApp] WARNING | Alternative text is missing on 1 image(s).\n",
      "[NbConvertApp] Writing 480095 bytes to wrangle_act.html\n"
     ]
    }
   ],
   "source": [
    "!jupyter nbconvert --to html wrangle_act.ipynb --output wrangle_act.html"
   ]
  },
  {
   "cell_type": "code",
   "execution_count": null,
   "id": "ac6f688b",
   "metadata": {},
   "outputs": [],
   "source": []
  }
 ],
 "metadata": {
  "kernelspec": {
   "display_name": "Python 3",
   "language": "python",
   "name": "python3"
  },
  "language_info": {
   "codemirror_mode": {
    "name": "ipython",
    "version": 3
   },
   "file_extension": ".py",
   "mimetype": "text/x-python",
   "name": "python",
   "nbconvert_exporter": "python",
   "pygments_lexer": "ipython3",
   "version": "3.13.2"
  }
 },
 "nbformat": 4,
 "nbformat_minor": 5
}
